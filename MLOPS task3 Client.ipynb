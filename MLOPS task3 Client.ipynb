{
 "cells": [
  {
   "cell_type": "code",
   "execution_count": null,
   "metadata": {},
   "outputs": [],
   "source": [
    "#used for image processing \n",
    "import cv2\n",
    "\n",
    "# used to communicate over a network\n",
    "import socket\n",
    "\n",
    "# used for array(image) processing\n",
    "import numpy"
   ]
  },
  {
   "cell_type": "code",
   "execution_count": null,
   "metadata": {},
   "outputs": [],
   "source": [
    "#creating the socket\n",
    "s=socket.socket() # default it takes IPV4 adress family and TCP protocol\n",
    "print(\"~@\"*10+\"\\t SOCKET CREAETED \\t\"+\"~@\"*10)\n",
    "\n",
    "#Connecting with server\n",
    "ip=\"127.0.0.1\" # IP of server\n",
    "port=1234 # port of server program\n",
    "s.connect((ip,port))\n",
    "print(\"~@\"*10+\"\\t CONNECTED WITH THE SERVER \\t\"+\"~@\"*10)"
   ]
  },
  {
   "cell_type": "code",
   "execution_count": null,
   "metadata": {},
   "outputs": [],
   "source": [
    "\n",
    "cap=cv2.VideoCapture(0) #caputring the content of inbilt camera 0->inbuilt/internal camera.\n",
    "while True:\n",
    "    r,photo=cap.read()\n",
    "    p_data=cv2.imencode('.jpg',photo)[1].tobytes() #encoding the data captured by the camera to send in packet\n",
    "    s.sendall(p_data) # sending the data\n",
    "\n",
    "    data=s.recv(100000000)\n",
    "    darray=numpy.frombuffer(data,numpy.uint8) #creating array of recevied data\n",
    "    photo=cv2.imdecode(darray,cv2.IMREAD_COLOR) # decoding the video stream\n",
    "    if type(photo)is type(None): #checking wheteher the image is None , if it is discarding it\n",
    "        pass\n",
    "    else:\n",
    "        cv2.imshow(\"Person B on video Call\", photo) # displaying the window of videochat\n",
    "        if cv2.waitKey(10)==13: #13 for enter key waits as long as enter key is pressed\n",
    "            break\n",
    "\n",
    "\n",
    "cv2.destroyAllWindows() # closing the video chat window\n",
    "cap.release() # releasing the camera"
   ]
  }
 ],
 "metadata": {
  "kernelspec": {
   "display_name": "Python 3",
   "language": "python",
   "name": "python3"
  },
  "language_info": {
   "codemirror_mode": {
    "name": "ipython",
    "version": 3
   },
   "file_extension": ".py",
   "mimetype": "text/x-python",
   "name": "python",
   "nbconvert_exporter": "python",
   "pygments_lexer": "ipython3",
   "version": "3.8.3"
  }
 },
 "nbformat": 4,
 "nbformat_minor": 4
}
