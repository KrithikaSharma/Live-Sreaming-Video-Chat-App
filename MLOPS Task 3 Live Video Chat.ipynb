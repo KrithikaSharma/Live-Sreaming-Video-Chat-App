{
 "cells": [
  {
   "cell_type": "code",
   "execution_count": null,
   "metadata": {},
   "outputs": [],
   "source": [
    "#used for image processing \n",
    "import cv2\n",
    "\n",
    "# used to communicate over a network\n",
    "import socket\n",
    "\n",
    "# used for array(image) processing\n",
    "import numpy\n"
   ]
  },
  {
   "cell_type": "code",
   "execution_count": null,
   "metadata": {},
   "outputs": [],
   "source": [
    "#creating the socket\n",
    "s=socket.socket() # default it takes IPV4 adress family and TCP protocol\n",
    "print(\"~@\"*10+\"\\t SOCKET CREAETED \\t\"+\"~@\"*10)\n",
    "\n",
    "#binding ip and port\n",
    "ip=\"\" # to use IP associaited with this device\n",
    "port=1234 # can be given any  free port within a valid range\n",
    "s.bind((ip,port)) \n",
    "print(\"~@\"*10+\"\\t BINDED ADDRESS WITH THIS PROGRAM  \\t\"+\"~@\"*10)\n",
    "\n",
    "#listening and accepting the connection\n",
    "s.listen(5)\n",
    "c,addr=s.accept()\n",
    "print(\"~@\"*10+\"\\t CONNECTION ACCEPTED \\t\"+\"~@\"*10)\n"
   ]
  },
  {
   "cell_type": "code",
   "execution_count": null,
   "metadata": {},
   "outputs": [],
   "source": [
    "external=\"<URL>\" # give URL of IPCamera app to use it as external camera\n",
    "cap=cv2.VideoCapture(external) #caputring the content seen by external camera\n",
    "while True:\n",
    "    data=c.recv(100000000) \n",
    "    darray=numpy.frombuffer(data,numpy.uint8) #creating array of recevied data\n",
    "    photo=cv2.imdecode(darray,cv2.IMREAD_COLOR) # decoding the video stream\n",
    "    if type(photo)is type(None): #checking wheteher the image is None , if it is discarding it\n",
    "        pass\n",
    "    else:\n",
    "        cv2.imshow(\"PersonA on video Call\", photo) # displaying the window of videochat\n",
    "        if cv2.waitKey(10)==13: #13 for enter key waits as long as enter key is pressed\n",
    "            break #exiting\n",
    "    r,photo=cap.read() \n",
    "    p_data=cv2.imencode('.jpg',photo)[1].tobytes() #encoding the data captured by the camera to send in packet\n",
    "    c.sendall(p_data) # sending the data\n",
    "cv2.destroyAllWindows() # closing the video chat window\n",
    "cap.release() # releasing the camera"
   ]
  },
  {
   "cell_type": "code",
   "execution_count": 8,
   "metadata": {},
   "outputs": [
    {
     "name": "stdout",
     "output_type": "stream",
     "text": [
      "~@~@~@~@~@~@~@~@~@~@\t SOCKET CREAETED \t~@~@~@~@~@~@~@~@~@~@\n"
     ]
    }
   ],
   "source": []
  },
  {
   "cell_type": "code",
   "execution_count": null,
   "metadata": {},
   "outputs": [],
   "source": []
  }
 ],
 "metadata": {
  "kernelspec": {
   "display_name": "Python 3",
   "language": "python",
   "name": "python3"
  },
  "language_info": {
   "codemirror_mode": {
    "name": "ipython",
    "version": 3
   },
   "file_extension": ".py",
   "mimetype": "text/x-python",
   "name": "python",
   "nbconvert_exporter": "python",
   "pygments_lexer": "ipython3",
   "version": "3.8.3"
  }
 },
 "nbformat": 4,
 "nbformat_minor": 4
}
